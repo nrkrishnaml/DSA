{
 "cells": [
  {
   "cell_type": "code",
   "execution_count": 1,
   "id": "b37869a9-b690-4c62-a9c0-2c6908345e2d",
   "metadata": {},
   "outputs": [
    {
     "name": "stdout",
     "output_type": "stream",
     "text": [
      "True\n"
     ]
    }
   ],
   "source": [
    "#1. Given an array, check if it contains any duplicates or not.arr = [1, 2, 4, 2, 5, 9] \n",
    "\n",
    "#Function to check if array has any duplicates\n",
    "def duplicates(arr):\n",
    "\n",
    "#comparing length of an array by converting it to set(set does not allow duplicates)\n",
    "#If the length is not equal it returns true, it means array has duplicate values\n",
    "    if len(arr) != len(set(arr)):\n",
    "        return True\n",
    "    else:\n",
    "        return False\n",
    "#DriversCode \n",
    "#Calling the function \n",
    "arr = [1, 2, 4, 2, 5, 9]  \n",
    "result = duplicates(arr) \n",
    "print(result)"
   ]
  },
  {
   "cell_type": "code",
   "execution_count": 2,
   "id": "73092352-9026-4d7a-a543-4f3b7b2282d2",
   "metadata": {},
   "outputs": [
    {
     "name": "stdout",
     "output_type": "stream",
     "text": [
      "[5, 6, 7, 1, 2, 3, 4]\n"
     ]
    }
   ],
   "source": [
    "#2. Given an array and an integer k, rotate the array to the right by k steps.arr = [1, 2, 3, 4, 5, 6, 7] k = 3\n",
    "\n",
    "#Defining function to rotate an array \n",
    "def rotate_array(arr,k):\n",
    "    #To shift right we are giving negative value\n",
    "    rotated_array = arr[-k:]+arr[:-k]\n",
    "    return rotated_array\n",
    "\n",
    "#DriversCode\n",
    "arr = [1, 2, 3, 4, 5, 6, 7] \n",
    "k = 3\n",
    "#calling the function\n",
    "result = rotate_array(arr,k)\n",
    "print(result)"
   ]
  },
  {
   "cell_type": "code",
   "execution_count": 3,
   "id": "8ca00e00-a7ad-4c93-94fb-907d4277d5d2",
   "metadata": {},
   "outputs": [
    {
     "name": "stdout",
     "output_type": "stream",
     "text": [
      "[12, 9, 7, 5, 4, 2]\n"
     ]
    }
   ],
   "source": [
    "#3. Reverse the given array in-place, means without using any extra data structure.arr = [2, 4, 5, 7, 9, 12]\n",
    "\n",
    "#Defining function to reverse array without using any data structure\n",
    "def reverse_array(arr,start,end):\n",
    "    #if the condition is true then it goes inside while loop\n",
    "    while start < end:\n",
    "        \n",
    "        #swaping the values based on indexes\n",
    "        arr[start],arr[end] = arr[end],arr[start]\n",
    "        \n",
    "        #Incrementing values of start and end \n",
    "        start += 1\n",
    "        end  -=1\n",
    "\n",
    "#Drivers code\n",
    "arr = [2, 4, 5, 7, 9, 12]\n",
    "#Getting length of array and passing the last index value to function\n",
    "e =len(arr)-1\n",
    "\n",
    "#calling function\n",
    "reverse_array(arr,0,e)\n",
    "print(arr)"
   ]
  },
  {
   "cell_type": "code",
   "execution_count": 4,
   "id": "806702f2-e199-4333-ba3f-10f4ad76f6ec",
   "metadata": {},
   "outputs": [
    {
     "name": "stdout",
     "output_type": "stream",
     "text": [
      "20\n"
     ]
    }
   ],
   "source": [
    "#4. Given an array of integers, find the maximum element in an array.arr = [10, 5, 20, 8, 15]\n",
    "\n",
    "#defining function to find maximum value\n",
    "def max_value(arr):\n",
    "\n",
    "# Initializing max value and variable n\n",
    "    max = 0\n",
    "    n = len(arr)\n",
    "    for i in range(n):\n",
    "        # if the value of array is greater then it is stored in max variable\n",
    "        if arr[i] > max:\n",
    "            max = arr[i]\n",
    "    return max\n",
    "arr = [10, 5, 20, 8, 15]\n",
    "\n",
    "#DriversCode\n",
    "#Calling the function\n",
    "result = max_value(arr)\n",
    "print(result)"
   ]
  },
  {
   "cell_type": "code",
   "execution_count": 5,
   "id": "cfaa91de-30b0-4f1b-bdc3-ec8e293c90c0",
   "metadata": {},
   "outputs": [
    {
     "name": "stdout",
     "output_type": "stream",
     "text": [
      "1 2 3 4 5 "
     ]
    }
   ],
   "source": [
    "#5. Given a sorted array, remove the duplicate element without using any extra data structure.arr = [1, 1, 2, 2, 2, 3, 3, 4, 4, 4, 5, 5]\n",
    "\n",
    "##defining function to remove the duplicate elements\n",
    "def remove_duplicates(arr):\n",
    "\n",
    "    n = len(arr)\n",
    "    #BaseCondition\n",
    "    if n == 0 or n == 1:\n",
    "        return n\n",
    "    \n",
    "    #initializing another varibale to store index\n",
    "    j = 0\n",
    "\n",
    "    for i in range(n-1):\n",
    "        # checking whether the adjacent values are equal or not\n",
    "        if arr[i] != arr[i+1]:\n",
    "            #if they are not equal then assign it to j  and increment j value\n",
    "            arr[j] = arr[i]\n",
    "            j += 1\n",
    "    #if the if condition fails then assign previous value to j       \n",
    "    arr[j] = arr[n-1]\n",
    "\n",
    "    return j+1\n",
    "#DriversCode\n",
    "arr = [1, 1, 2, 2, 2, 3, 3, 4, 4, 4, 5, 5]\n",
    "#calling the function\n",
    "result = remove_duplicates(arr)\n",
    "#using loop to display values of array without duplicates\n",
    "for i in range(result):\n",
    "    print(arr[i],end =\" \")"
   ]
  },
  {
   "cell_type": "code",
   "execution_count": null,
   "id": "2fd45a09-8e2e-4df9-b41c-1eea6e57283d",
   "metadata": {},
   "outputs": [],
   "source": []
  }
 ],
 "metadata": {
  "kernelspec": {
   "display_name": "Python 3 (ipykernel)",
   "language": "python",
   "name": "python3"
  },
  "language_info": {
   "codemirror_mode": {
    "name": "ipython",
    "version": 3
   },
   "file_extension": ".py",
   "mimetype": "text/x-python",
   "name": "python",
   "nbconvert_exporter": "python",
   "pygments_lexer": "ipython3",
   "version": "3.10.8"
  }
 },
 "nbformat": 4,
 "nbformat_minor": 5
}
